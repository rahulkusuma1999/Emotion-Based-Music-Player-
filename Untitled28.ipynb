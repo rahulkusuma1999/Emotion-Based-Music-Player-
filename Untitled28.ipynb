{
  "nbformat": 4,
  "nbformat_minor": 0,
  "metadata": {
    "colab": {
      "name": "Untitled28.ipynb",
      "provenance": []
    },
    "kernelspec": {
      "name": "python3",
      "display_name": "Python 3"
    },
    "accelerator": "GPU"
  },
  "cells": [
    {
      "cell_type": "code",
      "metadata": {
        "id": "WwQzoJy-Sg-z"
      },
      "source": [
        "import os \r\n",
        "import torch\r\n",
        "import torchvision\r\n",
        "import torch.nn as nn\r\n",
        "import torch.nn.functional as F\r\n",
        "from torchvision.datasets import ImageFolder\r\n",
        "from torch.utils.data import DataLoader\r\n",
        "import torchvision.transforms as tt\r\n",
        "import matplotlib.pyplot as plt\r\n",
        "%matplotlib inline"
      ],
      "execution_count": 4,
      "outputs": []
    },
    {
      "cell_type": "code",
      "metadata": {
        "id": "1Kf3AfNITCAA"
      },
      "source": [
        "train_tfms = tt.Compose([tt.Grayscale(num_output_channels=1),\r\n",
        "                         tt.RandomHorizontalFlip(),\r\n",
        "                         tt.RandomRotation(30),\r\n",
        "                         tt.ToTensor()])\r\n",
        "\r\n",
        "valid_tfms = tt.Compose([tt.Grayscale(num_output_channels=1),\r\n",
        "                         tt.ToTensor()])"
      ],
      "execution_count": 5,
      "outputs": []
    },
    {
      "cell_type": "code",
      "metadata": {
        "id": "bGYJdVBWTFpw"
      },
      "source": [
        ""
      ],
      "execution_count": null,
      "outputs": []
    },
    {
      "cell_type": "code",
      "metadata": {
        "id": "S5V0vJqkTYXb"
      },
      "source": [
        ""
      ],
      "execution_count": null,
      "outputs": []
    }
  ]
}