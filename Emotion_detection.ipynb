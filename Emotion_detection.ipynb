{
  "nbformat": 4,
  "nbformat_minor": 0,
  "metadata": {
    "colab": {
      "name": "Emotion detection.ipynb",
      "provenance": [],
      "collapsed_sections": []
    },
    "kernelspec": {
      "name": "python3",
      "display_name": "Python 3"
    },
    "accelerator": "GPU"
  },
  "cells": [
    {
      "cell_type": "code",
      "metadata": {
        "id": "WwQzoJy-Sg-z"
      },
      "source": [
        "import os \r\n",
        "import torch\r\n",
        "import torchvision\r\n",
        "import torch.nn as nn\r\n",
        "import torch.nn.functional as F\r\n",
        "from torchvision.datasets import ImageFolder\r\n",
        "from torch.utils.data import DataLoader\r\n",
        "import torchvision.transforms as tt\r\n",
        "import matplotlib.pyplot as plt\r\n",
        "%matplotlib inline"
      ],
      "execution_count": 10,
      "outputs": []
    },
    {
      "cell_type": "code",
      "metadata": {
        "colab": {
          "base_uri": "https://localhost:8080/"
        },
        "id": "ue1ZhJMTTw02",
        "outputId": "f90cd7f9-3ce9-4a69-d241-f912478a8eb5"
      },
      "source": [
        "from google.colab import drive\n",
        "drive.mount('/content/drive')"
      ],
      "execution_count": 3,
      "outputs": [
        {
          "output_type": "stream",
          "text": [
            "Mounted at /content/drive\n"
          ],
          "name": "stdout"
        }
      ]
    },
    {
      "cell_type": "code",
      "metadata": {
        "id": "1Kf3AfNITCAA"
      },
      "source": [
        "train_tfms = tt.Compose([tt.Grayscale(num_output_channels=1),\r\n",
        "                         tt.RandomHorizontalFlip(),\r\n",
        "                         tt.RandomRotation(30),\r\n",
        "                         tt.ToTensor()])\r\n",
        "\r\n",
        "valid_tfms = tt.Compose([tt.Grayscale(num_output_channels=1),\r\n",
        "                         tt.ToTensor()])"
      ],
      "execution_count": 11,
      "outputs": []
    },
    {
      "cell_type": "code",
      "metadata": {
        "id": "gpGkFBtYdiRl"
      },
      "source": [
        "dir = \"/content\""
      ],
      "execution_count": 8,
      "outputs": []
    },
    {
      "cell_type": "code",
      "metadata": {
        "id": "S5V0vJqkTYXb"
      },
      "source": [
        "trainds = ImageFolder(dir + \"/train\",train_tfms)\r\n",
        "testds = ImageFolder(dir +\"/test\",valid_tfms)"
      ],
      "execution_count": 12,
      "outputs": []
    },
    {
      "cell_type": "code",
      "metadata": {
        "colab": {
          "base_uri": "https://localhost:8080/"
        },
        "id": "-aM6LbdKeSjA",
        "outputId": "edf32511-3076-4bce-f08c-4577d1759c72"
      },
      "source": [
        "torch.Size([1, 48, 48])"
      ],
      "execution_count": 13,
      "outputs": [
        {
          "output_type": "execute_result",
          "data": {
            "text/plain": [
              "torch.Size([1, 48, 48])"
            ]
          },
          "metadata": {
            "tags": []
          },
          "execution_count": 13
        }
      ]
    },
    {
      "cell_type": "code",
      "metadata": {
        "id": "5_lAupHXea68"
      },
      "source": [
        ""
      ],
      "execution_count": null,
      "outputs": []
    }
  ]
}